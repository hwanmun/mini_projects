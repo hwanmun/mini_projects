{
 "cells": [
  {
   "cell_type": "markdown",
   "metadata": {},
   "source": [
    "## Anomaly detection with autoencoder\n",
    "In this note, I review and demonstrate anomaly detection using autoencoder. For demonstration, I use Physics Exchange user dataset collected in my [other note](SQL_query.ipynb)."
   ]
  },
  {
   "cell_type": "markdown",
   "metadata": {},
   "source": [
    "### Review: Autoencoder\n",
    "\n",
    "<img src=\"https://upload.wikimedia.org/wikipedia/commons/thumb/3/37/Autoencoder_schema.png/659px-Autoencoder_schema.png\" width=\"320px\">\n",
    "<div align=center> Autoencoder. Image from <a href=https://en.wikipedia.org/wiki/File:Autoencoder_schema.png>wikipedia</a> </div>\n",
    "\n",
    "\n",
    "Autoencoder is a type of an artificial neural network whose input and output have the equal dimension. The first part of the network, encoder, encodes the input data $\\mathbf{X}$ into the codes $\\mathbf{h}$ which have smaller dimension than the input data. The second part of the network, decoder, has the symmetric structure with the encoder and it decodes the codes $\\mathbf{h}$ to the output data $\\mathbf{X'}$. The autoencoder does not produce any label output and therfore this is a model for unsupervised learning. It is trained with loss function that measures the difference between $\\mathbf{X}$ and $\\mathbf{X'}$, so the ideal autoencoder should produce an output looks very similar to the input data.\n",
    "\n",
    "Due to the fact that autoencoder produces a likely, similar output data for a given input data, it can be used to image denoising or collaborative filtering for recommender systems. One might even use this to build generative models like Variational Autoencoder (VAE). As I would explain in the following paragraph, an autoencoder can be seen as a generalization of PCA. This allows one to use autoencoders for dimensionality reduction or anomaly detection."
   ]
  },
  {
   "cell_type": "markdown",
   "metadata": {},
   "source": [
    "### Autoencoder as  a generalization of PCA\n",
    "As I explained in my [other note](anomaly_detection_PCA.ipynb), PCA can be used for anomaly detection by calculating Mahalanobis distance for each data. That is,\n",
    "$$\\begin{eqnarray}\n",
    "& D(\\mathbf{x}) = \\sqrt{ \\chi^T(\\mathbf{x}) \\chi(\\mathbf{x}) },\\quad\n",
    "\\chi(\\mathbf{x})=V^{-1/2} M (\\mathbf{x}-\\mathbf{\\mu}) \\quad\\text{where} \\nonumber\\\\\n",
    "& S = \\text{E}\\left[ \\left(\\mathbf{X}-\\mathbf{\\mu}\\right) \\otimes \\left(\\mathbf{X}-\\mathbf{\\mu}\\right)^T \\right]=M^{-1} V M, \\quad V=\\text{diag}(v_1,\\cdots,v_p), \\quad v_i\\ge 0, \\quad v_{i}\\ge v_{i+1}.\n",
    "\\end{eqnarray}$$\n",
    "In particular, PCA approximates this distance by truncating $\\mathbf{V}$ as $\\mathbf{V'}=\\text{diag}(v_1,\\cdots,v_n,0,\\cdots,0)$. This truncation allows us to only first $n$ rows of $M$. With this, $\\chi(\\mathbf{x})$ is nothing but a linear model between the $p$-dimensional input data and the $n$-dimensional codes. Now by replacing all the activation functions with linear functions, the encoder part of the autoencoder becomes exactly the linear model with the same dimensionality. The same story can be repeated between $\\chi(\\mathbf{x})^T$ and the decoder part of the network, and the autoencoder is a generalization of PCA in this sense."
   ]
  },
  {
   "cell_type": "markdown",
   "metadata": {},
   "source": [
    "### Criterion for anomaly detection with autoencoder\n",
    "In the anomaly detection using PCA, Mahalanobis distance is used for criterion to detect anomalies. From the discussion in the previous paragraph, this corresponds to the Euclidean distance in the space for codes $\\mathbf{h}$. In case the symmetry between the encoder and the decoder is enforced, this can be indeed used for a criterion for anomaly detection. In case one relaxes the symmetry enforcement, however, the code in the middle of network is not a precise generalization of $\\chi(\\mathbf{x})$ in the previous paragraph and therefore cannot be used for the criterion. Instead, one can use some distance measure, such as MSE, between the input data $\\mathbf{x}$ and the output data $\\mathbf{x'}$. This is because the network is only trained with the data labeld as normal. So if one inputs an anomaly far away from the normal data, the autoencoder cannot produce an output similar enough to the original anomaly input. By setting some threshold for this distance measure, one can use autoencoders for anomaly detection."
   ]
  },
  {
   "cell_type": "markdown",
   "metadata": {},
   "source": [
    "### Demonstration with Physics Exchange user dataset\n",
    "Now I demonstrate anomaly detection using autoencoder with Physics Exchange user dataset. The dataset is colleced through a SQL query on the Stack Exchange data extraction tool, Data Explorer. Used query is in my [other note](SQL_query.ipynb). The user data possibly can be used to measure user activity level are collected.\n",
    "\n",
    "I first load relevant libraries. For neural network implementation, I use PyTorch."
   ]
  },
  {
   "cell_type": "code",
   "execution_count": 1,
   "metadata": {},
   "outputs": [],
   "source": [
    "import numpy as np\n",
    "import pandas as pd\n",
    "import torch\n",
    "from torch import nn\n",
    "from tqdm import tqdm\n",
    "import matplotlib.pyplot as plt"
   ]
  },
  {
   "cell_type": "markdown",
   "metadata": {},
   "source": [
    "Stack Exchange has the badge system to recognize the users with high activity level. Among the badges, gold badges are the rarest and I put the users with 5 gold badges or more as anomalies that have shown extraordinary activites in the website. Along this criteria, I divided the dataset into the normal dataset and the anomaly dataset. I also dropped badge columns and user IDs as well as min-max normalized the entired dataset. For exploration purpose, I presented a summary of normal dataset below."
   ]
  },
  {
   "cell_type": "code",
   "execution_count": 2,
   "metadata": {},
   "outputs": [
    {
     "name": "stdout",
     "output_type": "stream",
     "text": [
      "Normal data: 49918\n",
      "Anomalies: 82\n"
     ]
    },
    {
     "data": {
      "text/html": [
       "<div>\n",
       "<style scoped>\n",
       "    .dataframe tbody tr th:only-of-type {\n",
       "        vertical-align: middle;\n",
       "    }\n",
       "\n",
       "    .dataframe tbody tr th {\n",
       "        vertical-align: top;\n",
       "    }\n",
       "\n",
       "    .dataframe thead th {\n",
       "        text-align: right;\n",
       "    }\n",
       "</style>\n",
       "<table border=\"1\" class=\"dataframe\">\n",
       "  <thead>\n",
       "    <tr style=\"text-align: right;\">\n",
       "      <th></th>\n",
       "      <th>Reputation</th>\n",
       "      <th>DaysExisted</th>\n",
       "      <th>Views</th>\n",
       "      <th>UpVotes</th>\n",
       "      <th>DownVotes</th>\n",
       "      <th>QuestionViews</th>\n",
       "      <th>QuestionVotes</th>\n",
       "      <th>Questions</th>\n",
       "      <th>Answers</th>\n",
       "      <th>AcceptedAnswers</th>\n",
       "    </tr>\n",
       "  </thead>\n",
       "  <tbody>\n",
       "    <tr>\n",
       "      <th>count</th>\n",
       "      <td>49918.000000</td>\n",
       "      <td>49918.000000</td>\n",
       "      <td>49918.000000</td>\n",
       "      <td>49918.000000</td>\n",
       "      <td>49918.000000</td>\n",
       "      <td>49918.000000</td>\n",
       "      <td>49918.000000</td>\n",
       "      <td>49918.000000</td>\n",
       "      <td>49918.000000</td>\n",
       "      <td>49918.000000</td>\n",
       "    </tr>\n",
       "    <tr>\n",
       "      <th>mean</th>\n",
       "      <td>0.000590</td>\n",
       "      <td>0.505954</td>\n",
       "      <td>0.000496</td>\n",
       "      <td>0.001403</td>\n",
       "      <td>0.000110</td>\n",
       "      <td>0.003753</td>\n",
       "      <td>0.016814</td>\n",
       "      <td>0.002976</td>\n",
       "      <td>0.000621</td>\n",
       "      <td>0.000390</td>\n",
       "    </tr>\n",
       "    <tr>\n",
       "      <th>std</th>\n",
       "      <td>0.003765</td>\n",
       "      <td>0.249512</td>\n",
       "      <td>0.003445</td>\n",
       "      <td>0.011092</td>\n",
       "      <td>0.001957</td>\n",
       "      <td>0.016394</td>\n",
       "      <td>0.011076</td>\n",
       "      <td>0.010405</td>\n",
       "      <td>0.005740</td>\n",
       "      <td>0.004013</td>\n",
       "    </tr>\n",
       "    <tr>\n",
       "      <th>min</th>\n",
       "      <td>0.000000</td>\n",
       "      <td>0.000000</td>\n",
       "      <td>0.000000</td>\n",
       "      <td>0.000000</td>\n",
       "      <td>0.000000</td>\n",
       "      <td>0.000000</td>\n",
       "      <td>0.000000</td>\n",
       "      <td>0.000000</td>\n",
       "      <td>0.000000</td>\n",
       "      <td>0.000000</td>\n",
       "    </tr>\n",
       "    <tr>\n",
       "      <th>25%</th>\n",
       "      <td>0.000000</td>\n",
       "      <td>0.317308</td>\n",
       "      <td>0.000000</td>\n",
       "      <td>0.000000</td>\n",
       "      <td>0.000000</td>\n",
       "      <td>0.000000</td>\n",
       "      <td>0.013955</td>\n",
       "      <td>0.000000</td>\n",
       "      <td>0.000000</td>\n",
       "      <td>0.000000</td>\n",
       "    </tr>\n",
       "    <tr>\n",
       "      <th>50%</th>\n",
       "      <td>0.000006</td>\n",
       "      <td>0.517094</td>\n",
       "      <td>0.000023</td>\n",
       "      <td>0.000067</td>\n",
       "      <td>0.000000</td>\n",
       "      <td>0.000000</td>\n",
       "      <td>0.013955</td>\n",
       "      <td>0.000000</td>\n",
       "      <td>0.000000</td>\n",
       "      <td>0.000000</td>\n",
       "    </tr>\n",
       "    <tr>\n",
       "      <th>75%</th>\n",
       "      <td>0.000175</td>\n",
       "      <td>0.685363</td>\n",
       "      <td>0.000181</td>\n",
       "      <td>0.000401</td>\n",
       "      <td>0.000000</td>\n",
       "      <td>0.001102</td>\n",
       "      <td>0.015152</td>\n",
       "      <td>0.002621</td>\n",
       "      <td>0.000000</td>\n",
       "      <td>0.000000</td>\n",
       "    </tr>\n",
       "    <tr>\n",
       "      <th>max</th>\n",
       "      <td>0.212665</td>\n",
       "      <td>1.000000</td>\n",
       "      <td>0.275312</td>\n",
       "      <td>1.000000</td>\n",
       "      <td>0.229824</td>\n",
       "      <td>0.943492</td>\n",
       "      <td>0.384370</td>\n",
       "      <td>0.507208</td>\n",
       "      <td>0.492530</td>\n",
       "      <td>0.343344</td>\n",
       "    </tr>\n",
       "  </tbody>\n",
       "</table>\n",
       "</div>"
      ],
      "text/plain": [
       "         Reputation   DaysExisted         Views       UpVotes     DownVotes  \\\n",
       "count  49918.000000  49918.000000  49918.000000  49918.000000  49918.000000   \n",
       "mean       0.000590      0.505954      0.000496      0.001403      0.000110   \n",
       "std        0.003765      0.249512      0.003445      0.011092      0.001957   \n",
       "min        0.000000      0.000000      0.000000      0.000000      0.000000   \n",
       "25%        0.000000      0.317308      0.000000      0.000000      0.000000   \n",
       "50%        0.000006      0.517094      0.000023      0.000067      0.000000   \n",
       "75%        0.000175      0.685363      0.000181      0.000401      0.000000   \n",
       "max        0.212665      1.000000      0.275312      1.000000      0.229824   \n",
       "\n",
       "       QuestionViews  QuestionVotes     Questions       Answers  \\\n",
       "count   49918.000000   49918.000000  49918.000000  49918.000000   \n",
       "mean        0.003753       0.016814      0.002976      0.000621   \n",
       "std         0.016394       0.011076      0.010405      0.005740   \n",
       "min         0.000000       0.000000      0.000000      0.000000   \n",
       "25%         0.000000       0.013955      0.000000      0.000000   \n",
       "50%         0.000000       0.013955      0.000000      0.000000   \n",
       "75%         0.001102       0.015152      0.002621      0.000000   \n",
       "max         0.943492       0.384370      0.507208      0.492530   \n",
       "\n",
       "       AcceptedAnswers  \n",
       "count     49918.000000  \n",
       "mean          0.000390  \n",
       "std           0.004013  \n",
       "min           0.000000  \n",
       "25%           0.000000  \n",
       "50%           0.000000  \n",
       "75%           0.000000  \n",
       "max           0.343344  "
      ]
     },
     "execution_count": 2,
     "metadata": {},
     "output_type": "execute_result"
    }
   ],
   "source": [
    "df=pd.read_csv(\"PhysicsExchangeUsers.csv\")\n",
    "df=df.sample(frac=1,random_state=0)\n",
    "df_anomaly=df[df[\"GoldBadges\"]>5]\n",
    "df_normal=df[df[\"GoldBadges\"]<=5]\n",
    "\n",
    "df_anomaly=(df_anomaly-df.min())/(df.max()-df.min())\n",
    "df_normal=(df_normal-df.min())/(df.max()-df.min())\n",
    "\n",
    "df_anomaly=df_anomaly.iloc[:,1:(-3)]\n",
    "df_normal=df_normal.iloc[:,1:(-3)]\n",
    "\n",
    "data_train=torch.tensor(df_normal.to_numpy()).float()\n",
    "data_test=torch.tensor(df_anomaly.to_numpy()).float()\n",
    "train_set=torch.utils.data.TensorDataset(data_train)\n",
    "test_set=torch.utils.data.TensorDataset(data_test)\n",
    "\n",
    "N_train, N_test = len(df_normal), len(df_anomaly)\n",
    "print(\"Normal data:\",len(df_normal))\n",
    "print(\"Anomalies:\",len(df_anomaly))\n",
    "df_normal.describe()"
   ]
  },
  {
   "cell_type": "markdown",
   "metadata": {},
   "source": [
    "### Autoencoder structure\n",
    "The current dataset has 10-dimensional data. I set my encoder and decoder to have two hidden layers with dimensions 64 and 24. By setting the code dimension to be 6, the entire network is composed of following layers:\n",
    "1. Fully connected layer (10 units→64 units), followed by ReLU activation\n",
    "2. Fully connected layer (64 units→24 units), followed by ReLU activation\n",
    "3. Fully connected layer (24 units→6 units), followed by ReLU activation\n",
    "4. Fully connected layer (6 units→24 units), followed by ReLU activation\n",
    "5. Fully connected layer (24 units→64 units), followed by ReLU activation\n",
    "6. Fully connected layer (64 units→10 units)\n",
    "In this network, I do not enforce the symmetry between the encoder and the decoder. I use RMSprop for optmizer with mean squared error as the loss function. Here I also set the learning rate and initialization of the network."
   ]
  },
  {
   "cell_type": "code",
   "execution_count": 3,
   "metadata": {},
   "outputs": [],
   "source": [
    "hdim1, hdim2, code_dim = 64, 24, 6\n",
    "\n",
    "class AutoEncoder(nn.Module):\n",
    "    def __init__(self):\n",
    "        super().__init__()\n",
    "        self.seq=nn.Sequential(\n",
    "            nn.Linear(10,hdim1),nn.ReLU(),\n",
    "            nn.Linear(hdim1,hdim2),nn.ReLU(),\n",
    "            nn.Linear(hdim2,code_dim),nn.ReLU(),\n",
    "            nn.Linear(code_dim,hdim2),nn.ReLU(),\n",
    "            nn.Linear(hdim2,hdim1),nn.ReLU(),\n",
    "            nn.Linear(hdim1,10)\n",
    "        )\n",
    "    def forward(self,data):\n",
    "        return self.seq(data)\n",
    "\n",
    "learn_rate=0.0001\n",
    "auto_enc=AutoEncoder()\n",
    "auto_enc_optimizer=torch.optim.RMSprop(\n",
    "    auto_enc.parameters(), lr=learn_rate\n",
    ")\n",
    "loss_fn=nn.MSELoss()\n",
    "\n",
    "def initialization(layer):\n",
    "    if type(layer)==nn.Linear:\n",
    "        nn.init.normal_(layer.weight, 0, 0.02)\n",
    "        nn.init.constant_(layer.bias, 0)\n",
    "auto_enc=auto_enc.apply(initialization)"
   ]
  },
  {
   "cell_type": "markdown",
   "metadata": {},
   "source": [
    "### Training the model\n",
    "\n",
    "I train the model for 12 epochs with batch size 128. To check the progress, I present the loss history after each epoch."
   ]
  },
  {
   "cell_type": "code",
   "execution_count": 4,
   "metadata": {},
   "outputs": [
    {
     "name": "stderr",
     "output_type": "stream",
     "text": [
      "100%|██████████| 390/390 [00:01<00:00, 314.01it/s]\n"
     ]
    },
    {
     "name": "stdout",
     "output_type": "stream",
     "text": [
      "epoch  1 : loss= 0.00585248042756546\n"
     ]
    },
    {
     "data": {
      "image/png": "[encoded data removed]",
      "text/plain": [
       "<Figure size 432x144 with 1 Axes>"
      ]
     },
     "metadata": {
      "needs_background": "light"
     },
     "output_type": "display_data"
    },
    {
     "name": "stderr",
     "output_type": "stream",
     "text": [
      "100%|██████████| 390/390 [00:01<00:00, 358.72it/s]\n"
     ]
    },
    {
     "name": "stdout",
     "output_type": "stream",
     "text": [
      "epoch  2 : loss= 0.00522875672277205\n"
     ]
    },
    {
     "data": {
      "image/png": "[encoded data removed]",
      "text/plain": [
       "<Figure size 432x144 with 1 Axes>"
      ]
     },
     "metadata": {
      "needs_background": "light"
     },
     "output_type": "display_data"
    },
    {
     "name": "stderr",
     "output_type": "stream",
     "text": [
      "100%|██████████| 390/390 [00:00<00:00, 406.64it/s]\n"
     ]
    },
    {
     "name": "stdout",
     "output_type": "stream",
     "text": [
      "epoch  3 : loss= 0.006132280150753164\n"
     ]
    },
    {
     "data": {
      "image/png": "[encoded data removed]",
      "text/plain": [
       "<Figure size 432x144 with 1 Axes>"
      ]
     },
     "metadata": {
      "needs_background": "light"
     },
     "output_type": "display_data"
    },
    {
     "name": "stderr",
     "output_type": "stream",
     "text": [
      "100%|██████████| 390/390 [00:00<00:00, 401.98it/s]\n"
     ]
    },
    {
     "name": "stdout",
     "output_type": "stream",
     "text": [
      "epoch  4 : loss= 0.0064898327814194865\n"
     ]
    },
    {
     "data": {
      "image/png": "[encoded data removed]",
      "text/plain": [
       "<Figure size 432x144 with 1 Axes>"
      ]
     },
     "metadata": {
      "needs_background": "light"
     },
     "output_type": "display_data"
    },
    {
     "name": "stderr",
     "output_type": "stream",
     "text": [
      "100%|██████████| 390/390 [00:01<00:00, 363.53it/s]\n"
     ]
    },
    {
     "name": "stdout",
     "output_type": "stream",
     "text": [
      "epoch  5 : loss= 0.006339025623417032\n"
     ]
    },
    {
     "data": {
      "image/png": "[encoded data removed]",
      "text/plain": [
       "<Figure size 432x144 with 1 Axes>"
      ]
     },
     "metadata": {
      "needs_background": "light"
     },
     "output_type": "display_data"
    },
    {
     "name": "stderr",
     "output_type": "stream",
     "text": [
      "100%|██████████| 390/390 [00:00<00:00, 422.23it/s]\n"
     ]
    },
    {
     "name": "stdout",
     "output_type": "stream",
     "text": [
      "epoch  6 : loss= 0.006235910509946292\n"
     ]
    },
    {
     "data": {
      "image/png": "[encoded data removed]",
      "text/plain": [
       "<Figure size 432x144 with 1 Axes>"
      ]
     },
     "metadata": {
      "needs_background": "light"
     },
     "output_type": "display_data"
    },
    {
     "name": "stderr",
     "output_type": "stream",
     "text": [
      "100%|██████████| 390/390 [00:00<00:00, 407.35it/s]\n"
     ]
    },
    {
     "name": "stdout",
     "output_type": "stream",
     "text": [
      "epoch  7 : loss= 0.00624534427346979\n"
     ]
    },
    {
     "data": {
      "image/png": "[encoded data removed]",
      "text/plain": [
       "<Figure size 432x144 with 1 Axes>"
      ]
     },
     "metadata": {
      "needs_background": "light"
     },
     "output_type": "display_data"
    },
    {
     "name": "stderr",
     "output_type": "stream",
     "text": [
      "100%|██████████| 390/390 [00:00<00:00, 412.85it/s]\n"
     ]
    },
    {
     "name": "stdout",
     "output_type": "stream",
     "text": [
      "epoch  8 : loss= 0.006217227991715163\n"
     ]
    },
    {
     "data": {
      "image/png": "[encoded data removed]",
      "text/plain": [
       "<Figure size 432x144 with 1 Axes>"
      ]
     },
     "metadata": {
      "needs_background": "light"
     },
     "output_type": "display_data"
    },
    {
     "name": "stderr",
     "output_type": "stream",
     "text": [
      "100%|██████████| 390/390 [00:01<00:00, 371.80it/s]\n"
     ]
    },
    {
     "name": "stdout",
     "output_type": "stream",
     "text": [
      "epoch  9 : loss= 0.006232723176949667\n"
     ]
    },
    {
     "data": {
      "image/png": "[encoded data removed]",
      "text/plain": [
       "<Figure size 432x144 with 1 Axes>"
      ]
     },
     "metadata": {
      "needs_background": "light"
     },
     "output_type": "display_data"
    },
    {
     "name": "stderr",
     "output_type": "stream",
     "text": [
      "100%|██████████| 390/390 [00:01<00:00, 319.23it/s]\n"
     ]
    },
    {
     "name": "stdout",
     "output_type": "stream",
     "text": [
      "epoch  10 : loss= 0.006232245917990057\n"
     ]
    },
    {
     "data": {
      "image/png": "[encoded data removed]",
      "text/plain": [
       "<Figure size 432x144 with 1 Axes>"
      ]
     },
     "metadata": {
      "needs_background": "light"
     },
     "output_type": "display_data"
    },
    {
     "name": "stderr",
     "output_type": "stream",
     "text": [
      "100%|██████████| 390/390 [00:01<00:00, 360.03it/s]\n"
     ]
    },
    {
     "name": "stdout",
     "output_type": "stream",
     "text": [
      "epoch  11 : loss= 0.006241447772487311\n"
     ]
    },
    {
     "data": {
      "image/png": "[encoded data removed]",
      "text/plain": [
       "<Figure size 432x144 with 1 Axes>"
      ]
     },
     "metadata": {
      "needs_background": "light"
     },
     "output_type": "display_data"
    },
    {
     "name": "stderr",
     "output_type": "stream",
     "text": [
      "100%|██████████| 390/390 [00:01<00:00, 381.00it/s]\n"
     ]
    },
    {
     "name": "stdout",
     "output_type": "stream",
     "text": [
      "epoch  12 : loss= 0.006258094991615158\n"
     ]
    },
    {
     "data": {
      "image/png": "[encoded data removed]",
      "text/plain": [
       "<Figure size 432x144 with 1 Axes>"
      ]
     },
     "metadata": {
      "needs_background": "light"
     },
     "output_type": "display_data"
    }
   ],
   "source": [
    "n_epoch=12\n",
    "batch_size=128\n",
    "steps_per_epoch=10\n",
    "\n",
    "train_dataloader=torch.utils.data.DataLoader(train_set,batch_size=batch_size)\n",
    "\n",
    "loss_history=[]\n",
    "for epoch in range(n_epoch):\n",
    "    sample_cnt=0\n",
    "    sample_cnt_epoch=0\n",
    "    loss_sum=0\n",
    "    for data in tqdm(train_dataloader):\n",
    "        data=data[0]\n",
    "        len_batch=len(data)\n",
    "        pred=auto_enc(data)\n",
    "        loss=loss_fn(pred,data)\n",
    "        loss_sum+=loss.item()*len_batch\n",
    "        loss.backward()\n",
    "        auto_enc_optimizer.step()\n",
    "        \n",
    "        sample_cnt+=len_batch\n",
    "        sample_cnt_epoch+=len_batch\n",
    "        \n",
    "        if (sample_cnt*steps_per_epoch>=N_train) or (sample_cnt_epoch==N_train):\n",
    "            loss_avg=loss_sum/sample_cnt\n",
    "            loss_history.append(loss_avg)\n",
    "            loss_sum=0\n",
    "            sample_cnt=0\n",
    "    print(\"epoch \",epoch+1,\": loss=\",loss_avg)\n",
    "    plt.figure(figsize=(6,2))\n",
    "    plt.plot(range(1,len(loss_history)+1),loss_history)\n",
    "    plt.xlim(0,n_epoch*steps_per_epoch)\n",
    "    plt.xticks(list(range(steps_per_epoch,steps_per_epoch*n_epoch+1,steps_per_epoch))\n",
    "                ,list(range(1,n_epoch+1)))\n",
    "    plt.xlabel('epoch')\n",
    "    plt.ylabel('loss')\n",
    "    plt.show()"
   ]
  },
  {
   "cell_type": "markdown",
   "metadata": {},
   "source": [
    "### Anomaly detection\n",
    "After training the autoencoder, I calculate the mean squared error between the input and the output, for both of the normal dataset and the anomaly dataset. Log-histogram is presented to visually see how these two datasets are different."
   ]
  },
  {
   "cell_type": "code",
   "execution_count": 5,
   "metadata": {},
   "outputs": [
    {
     "data": {
      "image/png": "[encoded data removed]",
      "text/plain": [
       "<Figure size 432x288 with 1 Axes>"
      ]
     },
     "metadata": {
      "needs_background": "light"
     },
     "output_type": "display_data"
    }
   ],
   "source": [
    "auto_enc.eval()\n",
    "pred_train=auto_enc(data_train).detach().numpy()\n",
    "pred_test=auto_enc(data_test).detach().numpy()\n",
    "err_normal=pred_train-df_normal.to_numpy()\n",
    "err_anomaly=pred_test-df_anomaly.to_numpy()\n",
    "\n",
    "MSE_normal=np.sum(err_normal**2,axis=1)/pred_train.shape[1]\n",
    "MSE_anomaly=np.sum(err_anomaly**2,axis=1)/pred_test.shape[1]\n",
    "\n",
    "plt.figure()\n",
    "plt.hist(MSE_normal,log=True,bins=np.arange(0,0.45,0.005),\n",
    "         color=\"r\",alpha=0.5)\n",
    "plt.hist(MSE_anomaly,log=True,bins=np.arange(0,0.45,0.005),\n",
    "         color=\"b\",alpha=0.5)\n",
    "plt.xlabel(\"MSE\");"
   ]
  },
  {
   "cell_type": "markdown",
   "metadata": {},
   "source": [
    "To assess the performance as anomaly detecter, I calculate the precision, recall, and F1 score for different thresholds for the mean squared error. It seems F1 score is optimized around the threshold of 0.03, while the precision is saturated around the threshold of 0.1."
   ]
  },
  {
   "cell_type": "code",
   "execution_count": 7,
   "metadata": {},
   "outputs": [
    {
     "data": {
      "image/png": "[encoded data removed]",
      "text/plain": [
       "<Figure size 432x288 with 1 Axes>"
      ]
     },
     "metadata": {
      "needs_background": "light"
     },
     "output_type": "display_data"
    },
    {
     "name": "stdout",
     "output_type": "stream",
     "text": [
      "Max F1 score: 0.4812030075187971\n"
     ]
    }
   ],
   "source": [
    "mses=np.arange(0.01,0.12,0.005)\n",
    "precisions=[]\n",
    "recalls=[]\n",
    "F1s=[]\n",
    "for mse_thre in mses:\n",
    "    TN=sum((MSE_normal<mse_thre)*1)\n",
    "    FN=sum((MSE_anomaly<mse_thre)*1)\n",
    "    FP=sum((MSE_normal>=mse_thre)*1)\n",
    "    TP=sum((MSE_anomaly>=mse_thre)*1)\n",
    "\n",
    "    precision=TP/(TP+FP)\n",
    "    recall=TP/(TP+FN)\n",
    "    F1=2*(precision*recall)/(precision+recall)\n",
    "    precisions.append(precision)\n",
    "    recalls.append(recall)\n",
    "    F1s.append(F1)\n",
    "plt.figure()\n",
    "plt.plot(mses,precisions,\"-o\")\n",
    "plt.plot(mses,recalls,\"-o\")\n",
    "plt.plot(mses,F1s,\"-o\")\n",
    "plt.xlabel(\"distance threshold\")\n",
    "plt.legend([\"precision\",\"recall\",\"F1 score\"])\n",
    "plt.show()\n",
    "print(\"Max F1 score:\",max(F1s))"
   ]
  },
  {
   "cell_type": "code",
   "execution_count": null,
   "metadata": {},
   "outputs": [],
   "source": []
  }
 ],
 "metadata": {
  "kernelspec": {
   "display_name": "Python 3",
   "language": "python",
   "name": "python3"
  },
  "language_info": {
   "codemirror_mode": {
    "name": "ipython",
    "version": 3
   },
   "file_extension": ".py",
   "mimetype": "text/x-python",
   "name": "python",
   "nbconvert_exporter": "python",
   "pygments_lexer": "ipython3",
   "version": "3.7.9"
  }
 },
 "nbformat": 4,
 "nbformat_minor": 4
}
