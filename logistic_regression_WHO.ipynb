{
 "cells": [
  {
   "cell_type": "markdown",
   "metadata": {},
   "source": [
    "## Logistic Regression with WHO dataset\n",
    "\n",
    "In this note, I review the concept of the logistic regression and demonstrate it with the WHO dataset."
   ]
  },
  {
   "cell_type": "markdown",
   "metadata": {},
   "source": [
    "### Review: Logistic regression\n",
    "\n",
    "Logistic regression is a method to establish the relationship between the binary categorical dependent variable $Y$ (that is, $Y$ is either 0 or 1) and independent varaibles $X_1,\\cdots,X_p$ with a generalized linear model. Since the dependent variable is categorical, logistic regression models are often used for classification problems. To be more specific on the logistic model, the probability of $Y$ being 1 is related to the independent variables as\n",
    "$$\\begin{eqnarray}\n",
    "\\text{Pr}(Y=1) =\\text{Sigmoid}(\\beta_0 + \\beta_1 X_1 + \\cdots \\beta_p X_p ), \\quad \\text{Sigmoid}(x)=\\frac{1}{1+e^{-x}}.\n",
    "\\end{eqnarray}$$\n",
    "\n",
    "While the least squares method provided a closed form of regression coefficients for the linear regression, one cannot find the closed form of the coefficients for the logistic regression due to the sigmoid function. Therefore one must rely on some numerical optimization technique to find the regression coefficients."
   ]
  },
  {
   "cell_type": "markdown",
   "metadata": {},
   "source": [
    "### Demonstration with WHO dataset\n",
    "Now I demonstrate the logistic regression with the WHO dataset. First, I load relevant libraries:"
   ]
  },
  {
   "cell_type": "code",
   "execution_count": 1,
   "metadata": {},
   "outputs": [],
   "source": [
    "import numpy as np\n",
    "import pandas as pd\n",
    "import statsmodels.api as sm\n",
    "import statsmodels.formula.api as sf\n",
    "import matplotlib.pyplot as plt\n",
    "import seaborn as sns"
   ]
  },
  {
   "cell_type": "markdown",
   "metadata": {},
   "source": [
    "Loading the WHO dataset. For simpler analysis, we only use three variables: life expectancy, adult mortality, and health expenditure. To utilize this dataset for the logistic regression, I turned the life expectancy into a binary categorical variable so that 'LE_over_70'=1 ('LE_over_70'=0) indicates that the life expectancy is more than (less than or equal to) 70 years. I present the sample dataset below."
   ]
  },
  {
   "cell_type": "code",
   "execution_count": 2,
   "metadata": {},
   "outputs": [
    {
     "data": {
      "text/html": [
       "<div>\n",
       "<style scoped>\n",
       "    .dataframe tbody tr th:only-of-type {\n",
       "        vertical-align: middle;\n",
       "    }\n",
       "\n",
       "    .dataframe tbody tr th {\n",
       "        vertical-align: top;\n",
       "    }\n",
       "\n",
       "    .dataframe thead th {\n",
       "        text-align: right;\n",
       "    }\n",
       "</style>\n",
       "<table border=\"1\" class=\"dataframe\">\n",
       "  <thead>\n",
       "    <tr style=\"text-align: right;\">\n",
       "      <th></th>\n",
       "      <th>LE_over_70</th>\n",
       "      <th>adult_mortality</th>\n",
       "      <th>health_expenditure</th>\n",
       "    </tr>\n",
       "  </thead>\n",
       "  <tbody>\n",
       "    <tr>\n",
       "      <th>0</th>\n",
       "      <td>0</td>\n",
       "      <td>245.22490</td>\n",
       "      <td>8.18227</td>\n",
       "    </tr>\n",
       "    <tr>\n",
       "      <th>1</th>\n",
       "      <td>0</td>\n",
       "      <td>237.96940</td>\n",
       "      <td>3.30698</td>\n",
       "    </tr>\n",
       "    <tr>\n",
       "      <th>2</th>\n",
       "      <td>1</td>\n",
       "      <td>96.40514</td>\n",
       "      <td>5.88311</td>\n",
       "    </tr>\n",
       "    <tr>\n",
       "      <th>3</th>\n",
       "      <td>1</td>\n",
       "      <td>73.95345</td>\n",
       "      <td>3.64399</td>\n",
       "    </tr>\n",
       "    <tr>\n",
       "      <th>4</th>\n",
       "      <td>1</td>\n",
       "      <td>111.42880</td>\n",
       "      <td>4.78592</td>\n",
       "    </tr>\n",
       "  </tbody>\n",
       "</table>\n",
       "</div>"
      ],
      "text/plain": [
       "   LE_over_70  adult_mortality  health_expenditure\n",
       "0           0        245.22490             8.18227\n",
       "1           0        237.96940             3.30698\n",
       "2           1         96.40514             5.88311\n",
       "3           1         73.95345             3.64399\n",
       "4           1        111.42880             4.78592"
      ]
     },
     "execution_count": 2,
     "metadata": {},
     "output_type": "execute_result"
    }
   ],
   "source": [
    "df=pd.read_csv(\"dataset_WHO.csv\")\n",
    "\n",
    "df=df[\n",
    "    (~pd.isna(df[\"life_expectancy\"]))&\n",
    "    (~pd.isna(df[\"adult_mortality\"]))&\n",
    "    (~pd.isna(df[\"health_expenditure\"]))\n",
    "]\n",
    "\n",
    "df[\"LE_over_70\"]=(df[\"life_expectancy\"]>70)*1\n",
    "df=df[[\"LE_over_70\",\"adult_mortality\",\"health_expenditure\"]]\n",
    "\n",
    "df.head()"
   ]
  },
  {
   "cell_type": "markdown",
   "metadata": {},
   "source": [
    "For exploratory data analysis, I present the mean, the standard deviation, the minimum/maximum, and quartiles."
   ]
  },
  {
   "cell_type": "code",
   "execution_count": 3,
   "metadata": {},
   "outputs": [
    {
     "data": {
      "text/html": [
       "<div>\n",
       "<style scoped>\n",
       "    .dataframe tbody tr th:only-of-type {\n",
       "        vertical-align: middle;\n",
       "    }\n",
       "\n",
       "    .dataframe tbody tr th {\n",
       "        vertical-align: top;\n",
       "    }\n",
       "\n",
       "    .dataframe thead th {\n",
       "        text-align: right;\n",
       "    }\n",
       "</style>\n",
       "<table border=\"1\" class=\"dataframe\">\n",
       "  <thead>\n",
       "    <tr style=\"text-align: right;\">\n",
       "      <th></th>\n",
       "      <th>LE_over_70</th>\n",
       "      <th>adult_mortality</th>\n",
       "      <th>health_expenditure</th>\n",
       "    </tr>\n",
       "  </thead>\n",
       "  <tbody>\n",
       "    <tr>\n",
       "      <th>count</th>\n",
       "      <td>181.000000</td>\n",
       "      <td>181.000000</td>\n",
       "      <td>181.000000</td>\n",
       "    </tr>\n",
       "    <tr>\n",
       "      <th>mean</th>\n",
       "      <td>0.662983</td>\n",
       "      <td>162.664752</td>\n",
       "      <td>6.705698</td>\n",
       "    </tr>\n",
       "    <tr>\n",
       "      <th>std</th>\n",
       "      <td>0.474002</td>\n",
       "      <td>86.903047</td>\n",
       "      <td>2.630527</td>\n",
       "    </tr>\n",
       "    <tr>\n",
       "      <th>min</th>\n",
       "      <td>0.000000</td>\n",
       "      <td>49.201850</td>\n",
       "      <td>1.475300</td>\n",
       "    </tr>\n",
       "    <tr>\n",
       "      <th>25%</th>\n",
       "      <td>0.000000</td>\n",
       "      <td>95.825130</td>\n",
       "      <td>4.884310</td>\n",
       "    </tr>\n",
       "    <tr>\n",
       "      <th>50%</th>\n",
       "      <td>1.000000</td>\n",
       "      <td>147.168600</td>\n",
       "      <td>6.379290</td>\n",
       "    </tr>\n",
       "    <tr>\n",
       "      <th>75%</th>\n",
       "      <td>1.000000</td>\n",
       "      <td>219.298600</td>\n",
       "      <td>8.428770</td>\n",
       "    </tr>\n",
       "    <tr>\n",
       "      <th>max</th>\n",
       "      <td>1.000000</td>\n",
       "      <td>483.490600</td>\n",
       "      <td>17.140750</td>\n",
       "    </tr>\n",
       "  </tbody>\n",
       "</table>\n",
       "</div>"
      ],
      "text/plain": [
       "       LE_over_70  adult_mortality  health_expenditure\n",
       "count  181.000000       181.000000          181.000000\n",
       "mean     0.662983       162.664752            6.705698\n",
       "std      0.474002        86.903047            2.630527\n",
       "min      0.000000        49.201850            1.475300\n",
       "25%      0.000000        95.825130            4.884310\n",
       "50%      1.000000       147.168600            6.379290\n",
       "75%      1.000000       219.298600            8.428770\n",
       "max      1.000000       483.490600           17.140750"
      ]
     },
     "execution_count": 3,
     "metadata": {},
     "output_type": "execute_result"
    }
   ],
   "source": [
    "df.describe()"
   ]
  },
  {
   "cell_type": "markdown",
   "metadata": {},
   "source": [
    "For further exploration of dataset, I present histograms of three variables. One can see that the adult mortality data is right-skewed, and the health expenditure data is bell-shaped."
   ]
  },
  {
   "cell_type": "code",
   "execution_count": 4,
   "metadata": {},
   "outputs": [
    {
     "data": {
      "image/png": "[encoded data removed]",
      "text/plain": [
       "<Figure size 864x216 with 3 Axes>"
      ]
     },
     "metadata": {
      "needs_background": "light"
     },
     "output_type": "display_data"
    }
   ],
   "source": [
    "fig = plt.figure(figsize=[12,3])\n",
    "plt.subplot(1,3,1)\n",
    "plt.hist(df.LE_over_70,2)\n",
    "plt.xlabel(\"Life expectancy over 70 yrs\")\n",
    "plt.xticks([0.25,0.75],[\"No\",\"Yes\"])\n",
    "plt.subplot(1,3,2)\n",
    "plt.hist(df.adult_mortality,20)\n",
    "plt.xlabel(\"Adult mortality per 1000 ppl.\")\n",
    "plt.subplot(1,3,3)\n",
    "plt.hist(df.health_expenditure,20)\n",
    "plt.xlabel(\"Health expenditure, % of GDP\");"
   ]
  },
  {
   "cell_type": "markdown",
   "metadata": {},
   "source": [
    "To explore the relationship between variables, here I present scatter plots for each pair of different variables. Note that, in the last scatter plot, different categories of the life expectancy variable are marked with different colors."
   ]
  },
  {
   "cell_type": "code",
   "execution_count": 5,
   "metadata": {},
   "outputs": [
    {
     "data": {
      "image/png": "[encoded data removed]",
      "text/plain": [
       "<Figure size 864x216 with 3 Axes>"
      ]
     },
     "metadata": {
      "needs_background": "light"
     },
     "output_type": "display_data"
    }
   ],
   "source": [
    "fig = plt.figure(figsize=[12,3])\n",
    "plt.subplot(1,3,1)\n",
    "plt.scatter(df.adult_mortality,df.LE_over_70,s=6)\n",
    "plt.xlabel(\"Adult mortality per 1000 ppl.\")\n",
    "plt.ylabel(\"Life expectancy over 70 yrs\")\n",
    "plt.yticks([0.25,0.75],[\"No\",\"Yes\"])\n",
    "plt.subplot(1,3,2)\n",
    "plt.scatter(df.health_expenditure,df.LE_over_70,s=6)\n",
    "plt.xlabel(\"Health expenditure, % of GDP\")\n",
    "plt.ylabel(\"Life expectancy over 70 yrs\")\n",
    "plt.yticks([0.25,0.75],[\"No\",\"Yes\"])\n",
    "plt.subplot(1,3,3)\n",
    "df_0=df[df[\"LE_over_70\"]==0]\n",
    "df_1=df[df[\"LE_over_70\"]==1]\n",
    "plt.scatter(df_0.health_expenditure,df_0.adult_mortality,c=\"b\",s=6)\n",
    "plt.scatter(df_1.health_expenditure,df_1.adult_mortality,c=\"r\",s=6)\n",
    "plt.xlabel(\"Health expenditure, % of GDP\")\n",
    "plt.ylabel(\"Adult mortality per 1000 ppl.\")\n",
    "plt.legend([\"≤70\",\">70\"]);"
   ]
  },
  {
   "cell_type": "markdown",
   "metadata": {},
   "source": [
    "### Logistic regression and decision boundary\n",
    "Logistic model only evaluates the probability of $Y$ being 1, so one needs to set the threshold for this probability to use the logistic model for a classification problem. The boundary presenting that threshold is called decision boundary. Here I fit the data into logsitic model composed of single or multiple features and present the descision boundary in the scatter plot."
   ]
  },
  {
   "cell_type": "markdown",
   "metadata": {},
   "source": [
    "Here I fit the logistic model between the life expectancy and adult mortality."
   ]
  },
  {
   "cell_type": "code",
   "execution_count": 6,
   "metadata": {},
   "outputs": [
    {
     "name": "stdout",
     "output_type": "stream",
     "text": [
      "                           Logit Regression Results                           \n",
      "==============================================================================\n",
      "Dep. Variable:             LE_over_70   No. Observations:                  181\n",
      "Model:                          Logit   Df Residuals:                      179\n",
      "Method:                           MLE   Df Model:                            1\n",
      "Date:                Mon, 25 Jan 2021   Pseudo R-squ.:                  0.6448\n",
      "Time:                        20:43:14   Log-Likelihood:                -41.083\n",
      "converged:                       True   LL-Null:                       -115.67\n",
      "Covariance Type:            nonrobust   LLR p-value:                 2.639e-34\n",
      "===================================================================================\n",
      "                      coef    std err          z      P>|z|      [0.025      0.975]\n",
      "-----------------------------------------------------------------------------------\n",
      "Intercept           9.3284      1.469      6.352      0.000       6.450      12.207\n",
      "adult_mortality    -0.0489      0.008     -6.134      0.000      -0.065      -0.033\n",
      "===================================================================================\n"
     ]
    }
   ],
   "source": [
    "result=sf.logit(\"LE_over_70 ~ adult_mortality\",df).fit(disp=0)\n",
    "\n",
    "# setting the threshold p=0.5. Decision boundary calculated.\n",
    "p=0.5\n",
    "a_AM=(np.log(p/(1-p))-result.params[\"Intercept\"])/result.params[\"adult_mortality\"]\n",
    "print(result.summary())"
   ]
  },
  {
   "cell_type": "markdown",
   "metadata": {},
   "source": [
    "Here I fit the logistic model between the life expectancy and health expenditure."
   ]
  },
  {
   "cell_type": "code",
   "execution_count": 7,
   "metadata": {},
   "outputs": [
    {
     "name": "stdout",
     "output_type": "stream",
     "text": [
      "                           Logit Regression Results                           \n",
      "==============================================================================\n",
      "Dep. Variable:             LE_over_70   No. Observations:                  181\n",
      "Model:                          Logit   Df Residuals:                      179\n",
      "Method:                           MLE   Df Model:                            1\n",
      "Date:                Mon, 25 Jan 2021   Pseudo R-squ.:                 0.04324\n",
      "Time:                        20:43:14   Log-Likelihood:                -110.66\n",
      "converged:                       True   LL-Null:                       -115.67\n",
      "Covariance Type:            nonrobust   LLR p-value:                  0.001563\n",
      "======================================================================================\n",
      "                         coef    std err          z      P>|z|      [0.025      0.975]\n",
      "--------------------------------------------------------------------------------------\n",
      "Intercept             -0.6486      0.457     -1.420      0.156      -1.544       0.247\n",
      "health_expenditure     0.2049      0.068      2.991      0.003       0.071       0.339\n",
      "======================================================================================\n"
     ]
    }
   ],
   "source": [
    "result=sf.logit(\"LE_over_70 ~ health_expenditure\",df).fit(disp=0)\n",
    "\n",
    "# setting the threshold p=0.5. Decision boundary calculated.\n",
    "p=0.5\n",
    "a_HE=(np.log(p/(1-p))-result.params[\"Intercept\"])/result.params[\"health_expenditure\"]\n",
    "print(result.summary())"
   ]
  },
  {
   "cell_type": "markdown",
   "metadata": {},
   "source": [
    "Here I fit the logistic model for the life expectancy with both of the adult mortality and the health expenditure."
   ]
  },
  {
   "cell_type": "code",
   "execution_count": 8,
   "metadata": {},
   "outputs": [
    {
     "name": "stdout",
     "output_type": "stream",
     "text": [
      "                           Logit Regression Results                           \n",
      "==============================================================================\n",
      "Dep. Variable:             LE_over_70   No. Observations:                  181\n",
      "Model:                          Logit   Df Residuals:                      178\n",
      "Method:                           MLE   Df Model:                            2\n",
      "Date:                Mon, 25 Jan 2021   Pseudo R-squ.:                  0.6472\n",
      "Time:                        20:43:14   Log-Likelihood:                -40.802\n",
      "converged:                       True   LL-Null:                       -115.67\n",
      "Covariance Type:            nonrobust   LLR p-value:                 3.069e-33\n",
      "======================================================================================\n",
      "                         coef    std err          z      P>|z|      [0.025      0.975]\n",
      "--------------------------------------------------------------------------------------\n",
      "Intercept              8.7051      1.650      5.277      0.000       5.472      11.938\n",
      "health_expenditure     0.0937      0.126      0.742      0.458      -0.154       0.341\n",
      "adult_mortality       -0.0485      0.008     -6.093      0.000      -0.064      -0.033\n",
      "======================================================================================\n"
     ]
    }
   ],
   "source": [
    "result=sf.logit(\"LE_over_70 ~ health_expenditure + adult_mortality\",df).fit(disp=0)\n",
    "p=0.5\n",
    "a0=(np.log(p/(1-p))-result.params[\"Intercept\"])/result.params[\"adult_mortality\"]\n",
    "a1=-result.params[\"health_expenditure\"]/result.params[\"adult_mortality\"]\n",
    "print(result.summary())"
   ]
  },
  {
   "cell_type": "markdown",
   "metadata": {},
   "source": [
    "Logistic models with single feature are presented with the scatter plot. The red lines present the probabilities of the life expectancy being over 70 years, while the light red shadows present the range of that probability considering the deviation of the model. Black solid lines represent the one-dimensional decision boundaries."
   ]
  },
  {
   "cell_type": "code",
   "execution_count": 9,
   "metadata": {},
   "outputs": [
    {
     "data": {
      "image/png": "[encoded data removed]",
      "text/plain": [
       "<Figure size 648x216 with 2 Axes>"
      ]
     },
     "metadata": {
      "needs_background": "light"
     },
     "output_type": "display_data"
    }
   ],
   "source": [
    "fig = plt.figure(figsize=[9,3])\n",
    "plt.subplot(1,2,1)\n",
    "sns.regplot(x=\"adult_mortality\",y=\"LE_over_70\",data=df,logistic=True,scatter_kws={\"s\":3},line_kws={\"color\":\"r\"})\n",
    "plt.plot([a_AM,a_AM],[0,1],color=\"k\")\n",
    "plt.xlabel(\"Adult mortality per 1000 ppl.\")\n",
    "plt.ylabel(\"Life expectancy over 70 yrs\")\n",
    "plt.yticks([0,1],[\"No\",\"Yes\"])\n",
    "plt.subplot(1,2,2)\n",
    "sns.regplot(x=\"health_expenditure\",y=\"LE_over_70\",data=df,logistic=True,scatter_kws={\"s\":3},line_kws={\"color\":\"r\"})\n",
    "plt.plot([a_HE,a_HE],[0,1],color=\"k\")\n",
    "plt.xlabel(\"Health expenditure, % of GDP\")\n",
    "plt.ylabel(\"Life expectancy over 70 yrs\")\n",
    "plt.yticks([0,1],[\"No\",\"Yes\"]);"
   ]
  },
  {
   "cell_type": "markdown",
   "metadata": {},
   "source": [
    "Here I present the decision boundary for the logistic model with two features. Actual data are presented in scatter plot while different color presents different category. Light colored shadow regions indicate the decisions made by the logistic model."
   ]
  },
  {
   "cell_type": "code",
   "execution_count": 10,
   "metadata": {},
   "outputs": [
    {
     "data": {
      "image/png": "[encoded data removed]",
      "text/plain": [
       "<Figure size 432x288 with 1 Axes>"
      ]
     },
     "metadata": {
      "needs_background": "light"
     },
     "output_type": "display_data"
    }
   ],
   "source": [
    "x=np.linspace(df[\"health_expenditure\"].min(),df[\"health_expenditure\"].max(),500)\n",
    "y=a1*x+a0\n",
    "\n",
    "plt.fill_between(x,y,0*y+500,color=[0.7,0.7,1])\n",
    "plt.fill_between(x,0*y,y,color=[1,0.7,0.7])\n",
    "\n",
    "plt.scatter(df_0.health_expenditure,df_0.adult_mortality,c=\"b\",s=6)\n",
    "plt.scatter(df_1.health_expenditure,df_1.adult_mortality,c=\"r\",s=6)\n",
    "plt.xlabel(\"Health expenditure, % of GDP\")\n",
    "plt.ylabel(\"Adult mortality per 1000 ppl.\")\n",
    "plt.legend([\"predicted, ≤70\",\"predicted, >70\",\"data, ≤70\",\"data, >70\"]);"
   ]
  }
 ],
 "metadata": {
  "kernelspec": {
   "display_name": "Python 3",
   "language": "python",
   "name": "python3"
  },
  "language_info": {
   "codemirror_mode": {
    "name": "ipython",
    "version": 3
   },
   "file_extension": ".py",
   "mimetype": "text/x-python",
   "name": "python",
   "nbconvert_exporter": "python",
   "pygments_lexer": "ipython3",
   "version": "3.7.9"
  }
 },
 "nbformat": 4,
 "nbformat_minor": 4
}
