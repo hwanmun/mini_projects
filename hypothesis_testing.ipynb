{
 "cells": [
  {
   "cell_type": "markdown",
   "metadata": {},
   "source": [
    "## Statistical Hypothesis testing\n",
    "In this note, I review the concept of statistical hypothesis testing. I also demonstrate A/B testing and the linear regression testing with NHIS dataset."
   ]
  },
  {
   "cell_type": "markdown",
   "metadata": {},
   "source": [
    "### Review: Statistical hypothesis testing\n",
    "\n",
    "Statistical hypothesis testing is an inferential method to test the claim on the random variables representing the data. \n",
    "Hypothesis testing is paremteric or non-parametric depending on if there is any assumption on the distribution for the random variables or not. Since the parametric tests are often more powerful and widely used, I focus on parametric tests in this note.\n",
    "\n",
    "Hypothesis testing starts with a **null hypothesis** about population parameter and the **significance level**, $\\alpha$. With these,\n",
    "* If $\\text{Pr(Null hypothesis is true)}<\\alpha$, the test rejects the null hypothesis.\n",
    "* If $\\text{Pr(Null hypothesis is true)}\\ge\\alpha$, the test remains inconclusive.\n",
    "\n",
    "This probability of null hypothesis being true is called **p-value**. To be precise, it indicates the probability of observing current dataset or rarer dataset when the null hypothesis is true. Since the test gives statistically significant results only if the null hypothesis is rejeceted, the null hypothesis is constructed as the negation of the claim one wish to prove. $\\alpha$ is set to be a small number such as 0.01 or 0.05 beforehand.\n",
    "\n",
    "Hypothesis testing can have two types of errors:\n",
    "* Type I error: Rejecting the null hypothesis when it is true (false postivie)\n",
    "* Type II error: Not rejecting the null hypothesis when it is false (false negative)\n",
    "From the definition of p-value, the probability of having type I error is equal to the significance level $\\alpha$."
   ]
  },
  {
   "cell_type": "markdown",
   "metadata": {},
   "source": [
    "### Tests regarding population mean\n",
    "\n",
    "While the hypothesis testing can test any claim on the population, population mean is the subject of test in many cases. Now I regard the dataset $x_1,\\cdots,x_n$ as observed instances for random variables $X_1,\\cdots,X_n$. When these random variables are repeated observations of the identical experimentation, these random variables are set to be independent and identically distributed, or iid in short. Then one can regard this data set as a sample of size $n$ chosen from a population of mean $\\mu$ and variance $\\sigma^2$. While one wishes to make claims about $\\mu$, the sample mean $\\bar{x}=(x_1+\\cdots+x_n)/n$ is only accessible from the given dataset. This gap can be overcome with a theorem called the **central limit theorem (CLT)**:\n",
    "$$\\begin{eqnarray}\n",
    "\\textbf{CLT:}&& \\text{when }X_1,\\cdots,X_n \\text{ are iid,} \\\\\n",
    "&& \\bar{X}=(X_1+\\cdots+X_n)/n \\sim N(\\mu,\\sigma/\\sqrt{n})\\text{ as }n\\to\\infty.\n",
    "\\end{eqnarray}$$\n",
    "Here, $N(a,b)$ indicates the normal distribution of mean $a$ and variance $b^2$. Thanks to this theorem, one can approximate the distribution of $\\bar{X}$ as a normal distribution for a large sample size. This is particularly useful since this builds the pretty well understood normal distrubition out of arbitrary underlying distribution of $X_i$. From this normally distributed $\\bar{X}$, several useful quantities can be calculated:\n",
    "* **p-value:** To calculate p-value from the data sample, some known distribution must be used. While the kinds of this distribution depends on the assumed distribution of $X_i$ and other parameters calculated from the data sample, CLT ensures that any of such distribution approaches to the normal distribution as the sample size grows. For example, one sample test to see if the mean is equal to a particular value $\\mu_0$ for a nomrally distributied variable is tested with t-statsitic. In this particular case, t-statistic is given by\n",
    "$$\\begin{eqnarray}t=\\frac{\\bar{x}-\\mu}{s/\\sqrt{n}}\\end{eqnarray}.$$\n",
    "While the p-value can be calculated exactly by using t-distribution, a normal distribution can be used for approximate calculation when the sample size $n$ is large enough. This trick works even when $X_i$ is not following any known distribution, so this becomes a reason why one can apply hypothesis testing for large sample size, even when the assumption on underlying distribution is not precisely satisfied.\n",
    "* **Confidence interval (CI):** With the given sample mean $\\bar{x}$ and the sample variance $s^2$, an estimated range for $\\mu$ can be calculated up to some confidence level $\\gamma$, based on the normal distribution of $\\bar{X}$. For $z^*$ such that $\\Phi(z^*)=(1-\\gamma/2)$, the confindence interval for $\\mu$ is given by \n",
    "$$\\begin{eqnarray}\n",
    "\\text{CI: } \\left(\\bar{x}-z^*\\frac{s}{\\sqrt{n}},\\bar{x}+z^*\\frac{s}{\\sqrt{n}}\\right). \n",
    "\\end{eqnarray}$$"
   ]
  },
  {
   "cell_type": "markdown",
   "metadata": {},
   "source": [
    "### Demonstration with NHIS dataset\n",
    "For the rest of the note, I would demonstrate the two most common hypothesis tests, A/B testing and linear regression testing. I would use the dataset from National Health Interview Survey (NHIS) of year 2019 (www.cdc.gov/nchs/nhis/2019nhis.htm). While these data are collected with some sampling weights, I disregard the weights for the simplicity of analysis."
   ]
  },
  {
   "cell_type": "markdown",
   "metadata": {},
   "source": [
    "I first load the relevant libraries."
   ]
  },
  {
   "cell_type": "code",
   "execution_count": 1,
   "metadata": {},
   "outputs": [],
   "source": [
    "import numpy as np\n",
    "import pandas as pd\n",
    "from scipy.stats import ttest_ind\n",
    "import statsmodels.formula.api as sf\n",
    "import matplotlib.pyplot as plt"
   ]
  },
  {
   "cell_type": "markdown",
   "metadata": {},
   "source": [
    "Then I load the dataset and filter with desired quantities. I also divide it into the dataset of male responders and the dataset of female responders. For exploration of data, I print out the summary of each dataset."
   ]
  },
  {
   "cell_type": "code",
   "execution_count": 2,
   "metadata": {},
   "outputs": [
    {
     "name": "stdout",
     "output_type": "stream",
     "text": [
      "Entire dataset:\n",
      "                sex           age        weight        height\n",
      "count  29121.000000  29121.000000  29121.000000  29121.000000\n",
      "mean       0.467772     52.092991    177.004052     66.775076\n",
      "std        0.498969     18.295392     39.319784      3.888349\n",
      "min        0.000000     18.000000    100.000000     59.000000\n",
      "25%        0.000000     36.000000    148.000000     64.000000\n",
      "50%        0.000000     53.000000    174.000000     67.000000\n",
      "75%        1.000000     67.000000    200.000000     70.000000\n",
      "max        1.000000     85.000000    299.000000     76.000000\n",
      "Dataset of male responders:\n",
      "           sex           age        weight        height\n",
      "count  13622.0  13622.000000  13622.000000  13622.000000\n",
      "mean       1.0     51.418367    194.447071     69.796726\n",
      "std        0.0     17.931042     35.509748      2.821100\n",
      "min        1.0     18.000000    126.000000     63.000000\n",
      "25%        1.0     36.000000    170.000000     68.000000\n",
      "50%        1.0     52.000000    190.000000     70.000000\n",
      "75%        1.0     65.000000    220.000000     72.000000\n",
      "max        1.0     85.000000    299.000000     76.000000\n",
      "Dataset of female responders:\n",
      "           sex           age        weight        height\n",
      "count  15499.0  15499.000000  15499.000000  15499.000000\n",
      "mean       0.0     52.685915    161.673463     64.119363\n",
      "std        0.0     18.590102     35.975656      2.516986\n",
      "min        0.0     18.000000    100.000000     59.000000\n",
      "25%        0.0     37.000000    135.000000     62.000000\n",
      "50%        0.0     54.000000    155.000000     64.000000\n",
      "75%        0.0     68.000000    182.000000     66.000000\n",
      "max        0.0     85.000000    274.000000     70.000000\n"
     ]
    }
   ],
   "source": [
    "df_nhis=pd.read_csv(\"nhis2019.csv\")\n",
    "cols=[\"SEX_A\",\"AGEP_A\",\"WEIGHTLBTC_A\",\"HEIGHTTC_A\"]\n",
    "col_names=[\"sex\",\"age\",\"weight\",\"height\"]\n",
    "\n",
    "df=df_nhis[cols]\n",
    "df=df[\n",
    "    (df[\"SEX_A\"]<3)&(df[\"AGEP_A\"]<90)\n",
    "    &(df[\"WEIGHTLBTC_A\"]<300)&(df[\"HEIGHTTC_A\"]<80)\n",
    "]\n",
    "df=df.rename(columns=dict(zip(cols,col_names)))\n",
    "df[\"sex\"]=df[\"sex\"].replace({2:0})\n",
    "df_male=df[df[\"sex\"]==1]\n",
    "df_female=df[df[\"sex\"]==0]\n",
    "print(\"Entire dataset:\")\n",
    "print(df.describe())\n",
    "print(\"Dataset of male responders:\")\n",
    "print(df_male.describe())\n",
    "print(\"Dataset of female responders:\")\n",
    "print(df_female.describe())"
   ]
  },
  {
   "cell_type": "markdown",
   "metadata": {},
   "source": [
    "### A/B testing\n",
    "A/B testing, also called as split testing, compares the means of two independent dataset, A and B. It assumes that each dataset is drawn from iid random variables, possibly having different distribution between dataset A and B. This testing is often used when one tries to find out if particular treatment has an effect on the target variable, as well as it is possible to control other features equally for both of the dataset. In such cases, A and B become the control and treatment group.\n",
    "\n",
    "While precise way to calculate the statistic depends on the assumed population distributions. For continuous data, normal distribution is often assumed, and t-statistic is used accordingly. While the standard two-sample t-test assumes that two distribution has eqaul variance, one can use Welch's t-test instead without assuming the equal variance."
   ]
  },
  {
   "cell_type": "markdown",
   "metadata": {},
   "source": [
    "From NHIS dataset, I would test if the mean weight differs in the male responders and the female responders. First, I plot the histograms and means for each dataset. "
   ]
  },
  {
   "cell_type": "code",
   "execution_count": 3,
   "metadata": {},
   "outputs": [
    {
     "data": {
      "image/png": "[encoded data removed]",
      "text/plain": [
       "<Figure size 432x288 with 1 Axes>"
      ]
     },
     "metadata": {
      "needs_background": "light"
     },
     "output_type": "display_data"
    }
   ],
   "source": [
    "plt.figure()\n",
    "mean_male=df_male[\"weight\"].mean()\n",
    "mean_female=df_female[\"weight\"].mean()\n",
    "plt.plot([mean_male,mean_male],[0,1600],\"--\",color=\"r\")\n",
    "plt.plot([mean_female,mean_female],[0,1600],\"--\",color=\"b\")\n",
    "plt.hist(df_male[\"weight\"],bins=30,color=\"r\",alpha=0.5)\n",
    "plt.hist(df_female[\"weight\"],bins=30,color=\"b\",alpha=0.5)\n",
    "plt.xlabel(\"weight (lbs.)\")\n",
    "plt.legend([\"Male mean\",\"Female mean\",\"Male\",\"Female\"]);"
   ]
  },
  {
   "cell_type": "markdown",
   "metadata": {},
   "source": [
    "While it seems the male responders have higher weigh on average, we can test if this is true statistically. I run t-test with scipy.stats."
   ]
  },
  {
   "cell_type": "code",
   "execution_count": 9,
   "metadata": {},
   "outputs": [
    {
     "name": "stdout",
     "output_type": "stream",
     "text": [
      "t-statistic: 78.0394898231133\n",
      "p-value: 0.0\n"
     ]
    }
   ],
   "source": [
    "t_statistic,p_value=ttest_ind(df_male[\"weight\"], df_female[\"weight\"], equal_var=True)\n",
    "print(\"t-statistic:\",t_statistic)\n",
    "print(\"p-value:\",p_value)"
   ]
  },
  {
   "cell_type": "markdown",
   "metadata": {},
   "source": [
    "The test result yields a huge t-statistic, and the corresponding p-value becomes very small so that it is even smaller than the double precision. This is because both datasets have large sample sizes. To see how these numbers change with sample sizes, I repeat the same calculation for much smaller sizes of samples."
   ]
  },
  {
   "cell_type": "code",
   "execution_count": 5,
   "metadata": {},
   "outputs": [
    {
     "data": {
      "image/png": "[encoded data removed]",
      "text/plain": [
       "<Figure size 432x288 with 1 Axes>"
      ]
     },
     "metadata": {
      "needs_background": "light"
     },
     "output_type": "display_data"
    },
    {
     "name": "stdout",
     "output_type": "stream",
     "text": [
      "t-statistic: 2.763307427048691\n",
      "p-value: 0.009998922422674961\n"
     ]
    }
   ],
   "source": [
    "df_mini=df.sample(30,random_state=0)\n",
    "df_mini_male=df_mini[df_mini[\"sex\"]==1]\n",
    "df_mini_female=df_mini[df_mini[\"sex\"]==0]\n",
    "\n",
    "plt.figure()\n",
    "mean_male=df_mini_male[\"weight\"].mean()\n",
    "mean_female=df_mini_female[\"weight\"].mean()\n",
    "plt.plot([mean_male,mean_male],[0,5],\"--\",color=\"r\")\n",
    "plt.plot([mean_female,mean_female],[0,5],\"--\",color=\"b\")\n",
    "plt.hist(df_mini_male[\"weight\"],bins=12,color=\"r\",alpha=0.5)\n",
    "plt.hist(df_mini_female[\"weight\"],bins=12,color=\"b\",alpha=0.5)\n",
    "plt.xlabel(\"weight (lbs.)\")\n",
    "plt.legend([\"Male mean\",\"Female mean\",\"Male\",\"Female\"])\n",
    "plt.show()\n",
    "\n",
    "t_statistic,p_value=ttest_ind(df_mini_male[\"weight\"], df_mini_female[\"weight\"], equal_var=True)\n",
    "print(\"t-statistic:\",t_statistic)\n",
    "print(\"p-value:\",p_value)"
   ]
  },
  {
   "cell_type": "markdown",
   "metadata": {},
   "source": [
    "Compared to previous calculations, t-statistic got much smaller and p-value becomes a visible number (~1%). With $\\alpha=0.05$, this AB testing still states that male responders have significantly higher weights than female responders."
   ]
  },
  {
   "cell_type": "markdown",
   "metadata": {},
   "source": [
    "### Linear regression testing"
   ]
  },
  {
   "cell_type": "markdown",
   "metadata": {},
   "source": [
    "Instead of splitting the dataset into two, I may include the encoding of male (1) and female (0) responder as the data. Then I perform linear regression and see if the coefficient for this new variable is significantly different from 0. So now I run linear regression with statsmodel library:"
   ]
  },
  {
   "cell_type": "code",
   "execution_count": 6,
   "metadata": {},
   "outputs": [
    {
     "name": "stdout",
     "output_type": "stream",
     "text": [
      "                            OLS Regression Results                            \n",
      "==============================================================================\n",
      "Dep. Variable:                 weight   R-squared:                       0.214\n",
      "Model:                            OLS   Adj. R-squared:                  0.186\n",
      "Method:                 Least Squares   F-statistic:                     7.636\n",
      "Date:                Fri, 29 Jan 2021   Prob (F-statistic):             0.0100\n",
      "Time:                        20:26:19   Log-Likelihood:                -151.60\n",
      "No. Observations:                  30   AIC:                             307.2\n",
      "Df Residuals:                      28   BIC:                             310.0\n",
      "Df Model:                           1                                         \n",
      "Covariance Type:            nonrobust                                         \n",
      "==============================================================================\n",
      "                 coef    std err          t      P>|t|      [0.025      0.975]\n",
      "------------------------------------------------------------------------------\n",
      "Intercept    161.8462     10.875     14.883      0.000     139.571     184.122\n",
      "sex           39.9186     14.446      2.763      0.010      10.327      69.510\n",
      "==============================================================================\n",
      "Omnibus:                        2.749   Durbin-Watson:                   2.018\n",
      "Prob(Omnibus):                  0.253   Jarque-Bera (JB):                1.842\n",
      "Skew:                           0.604   Prob(JB):                        0.398\n",
      "Kurtosis:                       3.126   Cond. No.                         2.81\n",
      "==============================================================================\n",
      "\n",
      "Notes:\n",
      "[1] Standard Errors assume that the covariance matrix of the errors is correctly specified.\n"
     ]
    }
   ],
   "source": [
    "print(sf.ols(\"weight ~ sex\",df_mini).fit().summary())"
   ]
  },
  {
   "cell_type": "markdown",
   "metadata": {},
   "source": [
    "As seen in the result, t-statistic and p-value for the coefficient of \"sex\" variable are exactly equal to the previous calculation. Why? This is because the null hypotheses of both tests are equal, and therfore they are essentially same hypothesis testing; if the coefficient is zero, the male dataset and the female dataset have equal mean. If the coefficient is non-zero, they don't."
   ]
  },
  {
   "cell_type": "markdown",
   "metadata": {},
   "source": [
    "While A/B testing requires the two samples need to be controlled exactly the same for all the other variables than the treated variable, the linear regression testing can be used even when the two samples are not controlled equally. For example, suppose we did not control the feature \"age\" and \"height\" equally in the male dataset and the female dataset. Now I run the linear regression including these variables:"
   ]
  },
  {
   "cell_type": "code",
   "execution_count": 7,
   "metadata": {},
   "outputs": [
    {
     "name": "stdout",
     "output_type": "stream",
     "text": [
      "                            OLS Regression Results                            \n",
      "==============================================================================\n",
      "Dep. Variable:                 weight   R-squared:                       0.353\n",
      "Model:                            OLS   Adj. R-squared:                  0.278\n",
      "Method:                 Least Squares   F-statistic:                     4.721\n",
      "Date:                Fri, 29 Jan 2021   Prob (F-statistic):            0.00926\n",
      "Time:                        20:28:47   Log-Likelihood:                -148.70\n",
      "No. Observations:                  30   AIC:                             305.4\n",
      "Df Residuals:                      26   BIC:                             311.0\n",
      "Df Model:                           3                                         \n",
      "Covariance Type:            nonrobust                                         \n",
      "==============================================================================\n",
      "                 coef    std err          t      P>|t|      [0.025      0.975]\n",
      "------------------------------------------------------------------------------\n",
      "Intercept   -184.4961    148.748     -1.240      0.226    -490.253     121.261\n",
      "sex           20.4142     16.271      1.255      0.221     -13.030      53.859\n",
      "age            0.0005      0.398      0.001      0.999      -0.818       0.819\n",
      "height         5.3153      2.348      2.264      0.032       0.489      10.142\n",
      "==============================================================================\n",
      "Omnibus:                       10.005   Durbin-Watson:                   1.639\n",
      "Prob(Omnibus):                  0.007   Jarque-Bera (JB):                8.549\n",
      "Skew:                           1.141   Prob(JB):                       0.0139\n",
      "Kurtosis:                       4.277   Cond. No.                     1.92e+03\n",
      "==============================================================================\n",
      "\n",
      "Notes:\n",
      "[1] Standard Errors assume that the covariance matrix of the errors is correctly specified.\n",
      "[2] The condition number is large, 1.92e+03. This might indicate that there are\n",
      "strong multicollinearity or other numerical problems.\n"
     ]
    }
   ],
   "source": [
    "print(sf.ols(\"weight ~ sex + age + height\",df_mini).fit().summary())"
   ]
  },
  {
   "cell_type": "markdown",
   "metadata": {},
   "source": [
    "Now the t-statistic and p-value of coefficient for \"sex\" variable are no longer same as before. This is because this coefficient means different thing from previous cases. It now means the difference of weight due to the sex, provided that the age and height are equally set. While the t-statistic is still positive, it is not large enough so that p-value is greater than 0.05. Now I cannot reject the null hypothesis, and cannot state if the male responder has significantly higher weight than female responder with same age and height."
   ]
  }
 ],
 "metadata": {
  "kernelspec": {
   "display_name": "Python 3",
   "language": "python",
   "name": "python3"
  },
  "language_info": {
   "codemirror_mode": {
    "name": "ipython",
    "version": 3
   },
   "file_extension": ".py",
   "mimetype": "text/x-python",
   "name": "python",
   "nbconvert_exporter": "python",
   "pygments_lexer": "ipython3",
   "version": "3.7.9"
  }
 },
 "nbformat": 4,
 "nbformat_minor": 4
}
