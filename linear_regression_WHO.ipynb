{
 "cells": [
  {
   "cell_type": "markdown",
   "metadata": {},
   "source": [
    "## Linear Regression with WHO dataset\n",
    "\n",
    "In this note, I review the concept of the linear regression and demonstrate it with the WHO dataset."
   ]
  },
  {
   "cell_type": "markdown",
   "metadata": {},
   "source": [
    "### Review: Linear regression\n",
    "\n",
    "Linear regression is a method to establish the relationship between the dependent variable $Y$ and independent variables $X_{1},\\cdots,X_{p}$ with a linear model. That is, for the $i$th data $(x_{i1},\\cdots,x_{ip})$ and $y_i$ are related by\n",
    "$$\\begin{eqnarray}\n",
    "y_i = \\beta_0 + \\beta_1 x_{i1} + \\cdots + \\beta_p x_{ip} + \\epsilon_i,\n",
    "\\end{eqnarray}$$\n",
    "where $\\beta_0,\\cdots,\\beta_p$ are regression coefficients and $\\epsilon_i$ is the noise for the $i$th data. When the datset is composed of $n$ data points, this relation can be written in the vector notation,\n",
    "$$\\begin{eqnarray}\n",
    "\\mathbf{y} = X\\mathbf{\\beta}+\\mathbf{\\epsilon},\n",
    "\\end{eqnarray}$$\n",
    "where $\\mathbf{y} = \\left(\\begin{array}{c} y_1 \\\\ \\vdots \\\\ y_n \\end{array}\\right)$,\n",
    "$X=\\left(\\begin{array}{cccc}\n",
    "1 & x_{11} & \\cdots & x_{1p} \\\\\n",
    "\\vdots & \\vdots & \\ddots & \\vdots \\\\\n",
    "1 & x_{n1} & \\cdots & x_{np}\n",
    "\\end{array}\\right)$,\n",
    "$\\mathbf{\\beta}=\\left(\\begin{array}{c} \\beta_0 \\\\ \\vdots \\\\ \\beta_p\n",
    "\\end{array}\\right)$, and\n",
    "$\\mathbf{\\epsilon}=\\left(\\begin{array}{c} \\epsilon_1 \\\\ \\vdots \\\\ \\epsilon_n\n",
    "\\end{array}\\right)$. Here, the matrix $X$ given by the data of independnet variables is often called the design matrix.\n",
    "\n",
    "The goal of linear regression is finding regression coefficients $\\mathbf{\\beta}$ which best fit the data $\\lbrace x_{ij} \\rbrace$ with $\\lbrace y_i \\rbrace$ for given $n$ data points. While there are several ways to fit this model, the most common way is the least squares approach. This approach seeks to find $\\beta$ that minimizes the sum of squares of errors, $\\sum_{i=1}^n \\epsilon_i^2 = \\mathbf{\\epsilon}^T \\mathbf{\\epsilon}$. Since this expression is a polynomial of regression coefficients, so the $\\beta$ that minimizes $\\mathbf{\\epsilon}^T \\mathbf{\\epsilon}$ should satisfy\n",
    "\n",
    "$$\\begin{eqnarray}\n",
    "\\frac{\\partial}{\\partial \\beta_j} \\left( \\mathbf{\\epsilon}^T \\mathbf{\\epsilon} \\right) & = &\n",
    "\\frac{\\partial}{\\partial \\beta_j} \\left(\n",
    "\\mathbf{y}^T \\mathbf{y} - \\mathbf{y}^T X \\mathbf{\\beta}\n",
    "-\\mathbf{\\beta}^T X^T \\mathbf{y} +\\mathbf{\\beta}^T X^T X \\mathbf{\\beta}\n",
    "\\right) \\\\\n",
    "&=&\n",
    "-\\left((\\mathbf{y}^T X)^T\\right)_j\n",
    "-\\left( X^T \\mathbf{y} \\right)_j\n",
    "+\\left( X^T X \\mathbf{\\beta} \\right)_j\n",
    "+\\left( (\\mathbf{\\beta}^T X^T X)^T \\right)_j \\\\\n",
    "&=& 2 \\left( X^T X \\mathbf{\\beta} - X^T \\mathbf{y} \\right)_j \\\\ &=& 0\n",
    "\\end{eqnarray}$$\n",
    "for every $j=0,\\cdots,p$. These conditions can be turned into a matrix equation and one can be find the closed form of $\\mathbf{\\beta}$ from this:\n",
    "\n",
    "$$\\begin{eqnarray}\n",
    "X^T X \\mathbf{\\beta} = X^T \\mathbf{y} \\quad \\leftrightarrow \\quad\n",
    "\\mathbf{\\beta} = \\left( X^T X \\right)^{-1} X^T \\mathbf{y}.\n",
    "\\end{eqnarray}$$"
   ]
  },
  {
   "cell_type": "markdown",
   "metadata": {},
   "source": [
    "### Demonstration with WHO dataset\n",
    "Now I demonstrate the linear regression with the WHO dataset I formulated in the other note. First, I load relevant libraries:"
   ]
  },
  {
   "cell_type": "code",
   "execution_count": 1,
   "metadata": {},
   "outputs": [],
   "source": [
    "import pandas as pd\n",
    "import statsmodels.api as sm\n",
    "import statsmodels.formula.api as sf\n",
    "import matplotlib.pyplot as plt\n",
    "import seaborn as sns"
   ]
  },
  {
   "cell_type": "markdown",
   "metadata": {},
   "source": [
    "Loading the WHO dataset. For simpler analysis, we only use three variables: life expectancy, adult mortality, and health expenditure. I present the sample dataset below."
   ]
  },
  {
   "cell_type": "code",
   "execution_count": 2,
   "metadata": {},
   "outputs": [
    {
     "data": {
      "text/html": [
       "<div>\n",
       "<style scoped>\n",
       "    .dataframe tbody tr th:only-of-type {\n",
       "        vertical-align: middle;\n",
       "    }\n",
       "\n",
       "    .dataframe tbody tr th {\n",
       "        vertical-align: top;\n",
       "    }\n",
       "\n",
       "    .dataframe thead th {\n",
       "        text-align: right;\n",
       "    }\n",
       "</style>\n",
       "<table border=\"1\" class=\"dataframe\">\n",
       "  <thead>\n",
       "    <tr style=\"text-align: right;\">\n",
       "      <th></th>\n",
       "      <th>life_expectancy</th>\n",
       "      <th>adult_mortality</th>\n",
       "      <th>health_expenditure</th>\n",
       "    </tr>\n",
       "  </thead>\n",
       "  <tbody>\n",
       "    <tr>\n",
       "      <th>0</th>\n",
       "      <td>63.20990</td>\n",
       "      <td>245.22490</td>\n",
       "      <td>8.18227</td>\n",
       "    </tr>\n",
       "    <tr>\n",
       "      <th>1</th>\n",
       "      <td>63.06044</td>\n",
       "      <td>237.96940</td>\n",
       "      <td>3.30698</td>\n",
       "    </tr>\n",
       "    <tr>\n",
       "      <th>2</th>\n",
       "      <td>78.00018</td>\n",
       "      <td>96.40514</td>\n",
       "      <td>5.88311</td>\n",
       "    </tr>\n",
       "    <tr>\n",
       "      <th>3</th>\n",
       "      <td>76.07952</td>\n",
       "      <td>73.95345</td>\n",
       "      <td>3.64399</td>\n",
       "    </tr>\n",
       "    <tr>\n",
       "      <th>4</th>\n",
       "      <td>76.57514</td>\n",
       "      <td>111.42880</td>\n",
       "      <td>4.78592</td>\n",
       "    </tr>\n",
       "  </tbody>\n",
       "</table>\n",
       "</div>"
      ],
      "text/plain": [
       "   life_expectancy  adult_mortality  health_expenditure\n",
       "0         63.20990        245.22490             8.18227\n",
       "1         63.06044        237.96940             3.30698\n",
       "2         78.00018         96.40514             5.88311\n",
       "3         76.07952         73.95345             3.64399\n",
       "4         76.57514        111.42880             4.78592"
      ]
     },
     "execution_count": 2,
     "metadata": {},
     "output_type": "execute_result"
    }
   ],
   "source": [
    "df=pd.read_csv(\"dataset_WHO.csv\")\n",
    "\n",
    "df=df[\n",
    "    (~pd.isna(df[\"life_expectancy\"]))&\n",
    "    (~pd.isna(df[\"adult_mortality\"]))&\n",
    "    (~pd.isna(df[\"health_expenditure\"]))\n",
    "][[\"life_expectancy\",\"adult_mortality\",\"health_expenditure\"]]\n",
    "\n",
    "df.head()"
   ]
  },
  {
   "cell_type": "markdown",
   "metadata": {},
   "source": [
    "For exploratory data analysis, I present the mean, the standard deviation, the minimum/maximum, and quartiles."
   ]
  },
  {
   "cell_type": "code",
   "execution_count": 3,
   "metadata": {},
   "outputs": [
    {
     "data": {
      "text/html": [
       "<div>\n",
       "<style scoped>\n",
       "    .dataframe tbody tr th:only-of-type {\n",
       "        vertical-align: middle;\n",
       "    }\n",
       "\n",
       "    .dataframe tbody tr th {\n",
       "        vertical-align: top;\n",
       "    }\n",
       "\n",
       "    .dataframe thead th {\n",
       "        text-align: right;\n",
       "    }\n",
       "</style>\n",
       "<table border=\"1\" class=\"dataframe\">\n",
       "  <thead>\n",
       "    <tr style=\"text-align: right;\">\n",
       "      <th></th>\n",
       "      <th>life_expectancy</th>\n",
       "      <th>adult_mortality</th>\n",
       "      <th>health_expenditure</th>\n",
       "    </tr>\n",
       "  </thead>\n",
       "  <tbody>\n",
       "    <tr>\n",
       "      <th>count</th>\n",
       "      <td>181.000000</td>\n",
       "      <td>181.000000</td>\n",
       "      <td>181.000000</td>\n",
       "    </tr>\n",
       "    <tr>\n",
       "      <th>mean</th>\n",
       "      <td>72.628863</td>\n",
       "      <td>162.664752</td>\n",
       "      <td>6.705698</td>\n",
       "    </tr>\n",
       "    <tr>\n",
       "      <th>std</th>\n",
       "      <td>7.068417</td>\n",
       "      <td>86.903047</td>\n",
       "      <td>2.630527</td>\n",
       "    </tr>\n",
       "    <tr>\n",
       "      <th>min</th>\n",
       "      <td>50.748810</td>\n",
       "      <td>49.201850</td>\n",
       "      <td>1.475300</td>\n",
       "    </tr>\n",
       "    <tr>\n",
       "      <th>25%</th>\n",
       "      <td>66.631470</td>\n",
       "      <td>95.825130</td>\n",
       "      <td>4.884310</td>\n",
       "    </tr>\n",
       "    <tr>\n",
       "      <th>50%</th>\n",
       "      <td>73.897860</td>\n",
       "      <td>147.168600</td>\n",
       "      <td>6.379290</td>\n",
       "    </tr>\n",
       "    <tr>\n",
       "      <th>75%</th>\n",
       "      <td>77.762850</td>\n",
       "      <td>219.298600</td>\n",
       "      <td>8.428770</td>\n",
       "    </tr>\n",
       "    <tr>\n",
       "      <th>max</th>\n",
       "      <td>84.261380</td>\n",
       "      <td>483.490600</td>\n",
       "      <td>17.140750</td>\n",
       "    </tr>\n",
       "  </tbody>\n",
       "</table>\n",
       "</div>"
      ],
      "text/plain": [
       "       life_expectancy  adult_mortality  health_expenditure\n",
       "count       181.000000       181.000000          181.000000\n",
       "mean         72.628863       162.664752            6.705698\n",
       "std           7.068417        86.903047            2.630527\n",
       "min          50.748810        49.201850            1.475300\n",
       "25%          66.631470        95.825130            4.884310\n",
       "50%          73.897860       147.168600            6.379290\n",
       "75%          77.762850       219.298600            8.428770\n",
       "max          84.261380       483.490600           17.140750"
      ]
     },
     "execution_count": 3,
     "metadata": {},
     "output_type": "execute_result"
    }
   ],
   "source": [
    "df.describe()"
   ]
  },
  {
   "cell_type": "markdown",
   "metadata": {},
   "source": [
    "For further exploration of dataset, I present histograms of three variables. One can see that the life expectancy data is multimodal, the adult mortality data is right-skewed, and the health expenditure data is bell-shaped."
   ]
  },
  {
   "cell_type": "code",
   "execution_count": 4,
   "metadata": {},
   "outputs": [
    {
     "data": {
      "image/png": "[encoded data removed]",
      "text/plain": [
       "<Figure size 792x216 with 3 Axes>"
      ]
     },
     "metadata": {
      "needs_background": "light"
     },
     "output_type": "display_data"
    }
   ],
   "source": [
    "fig = plt.figure(figsize=[11,3])\n",
    "plt.subplot(1,3,1)\n",
    "plt.hist(df.life_expectancy,20)\n",
    "plt.xlabel(\"Life expectancy (yr)\")\n",
    "plt.subplot(1,3,2)\n",
    "plt.hist(df.adult_mortality,20)\n",
    "plt.xlabel(\"Adult mortality per 1000 ppl.\")\n",
    "plt.subplot(1,3,3)\n",
    "plt.hist(df.health_expenditure,20)\n",
    "plt.xlabel(\"Health expenditure, % of GDP\");"
   ]
  },
  {
   "cell_type": "markdown",
   "metadata": {},
   "source": [
    "### Linear regression with single feature\n",
    "To investigate how the life expectancy is correlated with either the adult mortality or the health expenditure, I present the scatter plots. While the negative correlation between the life expectancy and the adult mortality seems strong, the correlation between the life expectancy and health expenditure is seemingly unclear."
   ]
  },
  {
   "cell_type": "code",
   "execution_count": 5,
   "metadata": {},
   "outputs": [
    {
     "data": {
      "image/png": "[encoded data removed]",
      "text/plain": [
       "<Figure size 648x216 with 2 Axes>"
      ]
     },
     "metadata": {
      "needs_background": "light"
     },
     "output_type": "display_data"
    }
   ],
   "source": [
    "fig = plt.figure(figsize=[9,3])\n",
    "plt.subplot(1,2,1)\n",
    "plt.scatter(df.adult_mortality,df.life_expectancy,s=6)\n",
    "plt.xlabel(\"Adult mortality per 1000 ppl.\")\n",
    "plt.ylabel(\"Life expectancy (yr)\")\n",
    "plt.subplot(1,2,2)\n",
    "plt.scatter(df.health_expenditure,df.life_expectancy,s=6)\n",
    "plt.xlabel(\"Health expenditure, % of GDP\")\n",
    "plt.ylabel(\"Life expectancy (yr)\");"
   ]
  },
  {
   "cell_type": "markdown",
   "metadata": {},
   "source": [
    "With statsmodel library, I fit the linear model between the life expectancy and adult mortality. That is, in the model $\\mathbf{y} = \\beta_0 + \\beta_1 \\mathbf{x_1} +\\mathbf{\\epsilon}$, $\\mathbf{y}$ represents the life expectancy and $\\mathbf{x_1}$ represents the adult mortality."
   ]
  },
  {
   "cell_type": "code",
   "execution_count": 6,
   "metadata": {},
   "outputs": [
    {
     "name": "stdout",
     "output_type": "stream",
     "text": [
      "                            OLS Regression Results                            \n",
      "==============================================================================\n",
      "Dep. Variable:        life_expectancy   R-squared:                       0.827\n",
      "Model:                            OLS   Adj. R-squared:                  0.826\n",
      "Method:                 Least Squares   F-statistic:                     856.9\n",
      "Date:                Mon, 25 Jan 2021   Prob (F-statistic):           3.75e-70\n",
      "Time:                        15:22:27   Log-Likelihood:                -451.41\n",
      "No. Observations:                 181   AIC:                             906.8\n",
      "Df Residuals:                     179   BIC:                             913.2\n",
      "Df Model:                           1                                         \n",
      "Covariance Type:            nonrobust                                         \n",
      "===================================================================================\n",
      "                      coef    std err          t      P>|t|      [0.025      0.975]\n",
      "-----------------------------------------------------------------------------------\n",
      "Intercept          84.6623      0.466    181.768      0.000      83.743      85.581\n",
      "adult_mortality    -0.0740      0.003    -29.273      0.000      -0.079      -0.069\n",
      "==============================================================================\n",
      "Omnibus:                       24.387   Durbin-Watson:                   2.005\n",
      "Prob(Omnibus):                  0.000   Jarque-Bera (JB):               44.417\n",
      "Skew:                          -0.672   Prob(JB):                     2.26e-10\n",
      "Kurtosis:                       5.021   Cond. No.                         392.\n",
      "==============================================================================\n",
      "\n",
      "Notes:\n",
      "[1] Standard Errors assume that the covariance matrix of the errors is correctly specified.\n"
     ]
    }
   ],
   "source": [
    "print(sf.ols(\"life_expectancy ~ adult_mortality\",df).fit().summary())"
   ]
  },
  {
   "cell_type": "markdown",
   "metadata": {},
   "source": [
    "This result tells that the intercept ($\\beta_0$) is 84.6623 while the coefficient for the adult mortality ($\\beta_1$) is -0.0740. Since the standard error for the estimation of $\\beta_1$ is 0.003 and the t-statistic is -29.273, so the negative correlation between the life expectancy and the adult mortality is quite solid.\n",
    "\n",
    "Now I repeat the same model fitting for the case where the independent variable is the health expenditure:"
   ]
  },
  {
   "cell_type": "code",
   "execution_count": 7,
   "metadata": {},
   "outputs": [
    {
     "name": "stdout",
     "output_type": "stream",
     "text": [
      "                            OLS Regression Results                            \n",
      "==============================================================================\n",
      "Dep. Variable:        life_expectancy   R-squared:                       0.106\n",
      "Model:                            OLS   Adj. R-squared:                  0.101\n",
      "Method:                 Least Squares   F-statistic:                     21.12\n",
      "Date:                Mon, 25 Jan 2021   Prob (F-statistic):           8.12e-06\n",
      "Time:                        15:22:27   Log-Likelihood:                -600.20\n",
      "No. Observations:                 181   AIC:                             1204.\n",
      "Df Residuals:                     179   BIC:                             1211.\n",
      "Df Model:                           1                                         \n",
      "Covariance Type:            nonrobust                                         \n",
      "======================================================================================\n",
      "                         coef    std err          t      P>|t|      [0.025      0.975]\n",
      "--------------------------------------------------------------------------------------\n",
      "Intercept             66.7751      1.368     48.822      0.000      64.076      69.474\n",
      "health_expenditure     0.8730      0.190      4.596      0.000       0.498       1.248\n",
      "==============================================================================\n",
      "Omnibus:                       19.620   Durbin-Watson:                   1.773\n",
      "Prob(Omnibus):                  0.000   Jarque-Bera (JB):               22.555\n",
      "Skew:                          -0.838   Prob(JB):                     1.27e-05\n",
      "Kurtosis:                       3.429   Cond. No.                         20.1\n",
      "==============================================================================\n",
      "\n",
      "Notes:\n",
      "[1] Standard Errors assume that the covariance matrix of the errors is correctly specified.\n"
     ]
    }
   ],
   "source": [
    "print(sf.ols(\"life_expectancy ~ health_expenditure\",df).fit().summary())"
   ]
  },
  {
   "cell_type": "markdown",
   "metadata": {},
   "source": [
    "This result tells that the intercept ($\\beta_0$) is 66.7751 while the coefficient for the adult mortality ($\\beta_1$) is 0.8730, therfore the life expectancy and the health expenditure has a postivie correlation. While $\\beta_1$ for the health expenditure is larger than the $\\beta_1$ for the adult mortality, it does not mean that the health expenditure has stronger correlation since the scale of data for these two kinds are different. Indeed, the t-statistic for the health expenditure is 4.596 and its absolute value is smaller than that of the t-statistic for the adult mortality (-29.273).\n",
    "\n",
    "To visualize this regression result, I plot the regressed models within the data through the seaborn library. Here the red line indicates the line $\\mathbf{y}=\\beta_0 + \\beta_1 \\mathbf{x_1}$ while the light red shadow indicates the range of this regression line considering the standard deviations for the estimation of $\\beta_0$ and $\\beta_1$."
   ]
  },
  {
   "cell_type": "code",
   "execution_count": 8,
   "metadata": {},
   "outputs": [
    {
     "data": {
      "image/png": "[encoded data removed]",
      "text/plain": [
       "<Figure size 648x216 with 2 Axes>"
      ]
     },
     "metadata": {
      "needs_background": "light"
     },
     "output_type": "display_data"
    }
   ],
   "source": [
    "fig = plt.figure(figsize=[9,3])\n",
    "plt.subplot(1,2,1)\n",
    "sns.regplot(x=\"adult_mortality\",y=\"life_expectancy\",data=df,scatter_kws={\"s\":6},line_kws={\"color\":\"r\"})\n",
    "plt.xlabel(\"Adult mortality per 1000 ppl.\")\n",
    "plt.ylabel(\"Life expectancy (yr)\")\n",
    "plt.subplot(1,2,2)\n",
    "sns.regplot(x=\"health_expenditure\",y=\"life_expectancy\",data=df,scatter_kws={\"s\":6},line_kws={\"color\":\"r\"})\n",
    "plt.xlabel(\"Health expenditure, % of GDP\")\n",
    "plt.ylabel(\"Life expectancy (yr)\");"
   ]
  },
  {
   "cell_type": "markdown",
   "metadata": {},
   "source": [
    "### Linear regression with multiple features\n",
    "\n",
    "Now I fit the data with linear model contains both of the adult mortality and the health expenditure. That is, in the model $\\mathbf{y}=\\beta_0 + \\beta_1\\mathbf{x_1} + \\beta_2\\mathbf{x_2}+\\mathbf{\\epsilon}$, $\\mathbf{x_1}$ represents the adult mortality while $\\mathbf{x_2}$ represents the health expenditure."
   ]
  },
  {
   "cell_type": "code",
   "execution_count": 9,
   "metadata": {},
   "outputs": [
    {
     "name": "stdout",
     "output_type": "stream",
     "text": [
      "                            OLS Regression Results                            \n",
      "==============================================================================\n",
      "Dep. Variable:        life_expectancy   R-squared:                       0.835\n",
      "Model:                            OLS   Adj. R-squared:                  0.833\n",
      "Method:                 Least Squares   F-statistic:                     450.1\n",
      "Date:                Mon, 25 Jan 2021   Prob (F-statistic):           2.39e-70\n",
      "Time:                        15:22:27   Log-Likelihood:                -447.28\n",
      "No. Observations:                 181   AIC:                             900.6\n",
      "Df Residuals:                     178   BIC:                             910.2\n",
      "Df Model:                           2                                         \n",
      "Covariance Type:            nonrobust                                         \n",
      "======================================================================================\n",
      "                         coef    std err          t      P>|t|      [0.025      0.975]\n",
      "--------------------------------------------------------------------------------------\n",
      "Intercept             82.7051      0.818    101.047      0.000      81.090      84.320\n",
      "adult_mortality       -0.0720      0.003    -28.043      0.000      -0.077      -0.067\n",
      "health_expenditure     0.2445      0.085      2.881      0.004       0.077       0.412\n",
      "==============================================================================\n",
      "Omnibus:                       34.665   Durbin-Watson:                   1.995\n",
      "Prob(Omnibus):                  0.000   Jarque-Bera (JB):               99.093\n",
      "Skew:                          -0.757   Prob(JB):                     3.04e-22\n",
      "Kurtosis:                       6.294   Cond. No.                         706.\n",
      "==============================================================================\n",
      "\n",
      "Notes:\n",
      "[1] Standard Errors assume that the covariance matrix of the errors is correctly specified.\n"
     ]
    }
   ],
   "source": [
    "print(sf.ols(\"life_expectancy ~ adult_mortality + health_expenditure\",df).fit().summary())"
   ]
  },
  {
   "cell_type": "markdown",
   "metadata": {},
   "source": [
    "The result tells that the intercept ($\\beta_0$) is 82.7051, the coefficient for the adult mortality ($\\beta_1$) is -0.0720, and the coefficient for the health expenditure ($\\beta_2$) is 0.2445. One can notice that the coefficients for each independent variables are different from the coefficients obtained in the linear regression with single feature. This is because the adult mortality and the health expenditure are not indepedent varibale to each other. To see this, we fit the data to the linear model between the the addult mortality and the health expenditure:"
   ]
  },
  {
   "cell_type": "code",
   "execution_count": 10,
   "metadata": {},
   "outputs": [
    {
     "name": "stdout",
     "output_type": "stream",
     "text": [
      "                            OLS Regression Results                            \n",
      "==============================================================================\n",
      "Dep. Variable:        adult_mortality   R-squared:                       0.070\n",
      "Model:                            OLS   Adj. R-squared:                  0.065\n",
      "Method:                 Least Squares   F-statistic:                     13.43\n",
      "Date:                Mon, 25 Jan 2021   Prob (F-statistic):           0.000327\n",
      "Time:                        15:22:27   Log-Likelihood:                -1057.9\n",
      "No. Observations:                 181   AIC:                             2120.\n",
      "Df Residuals:                     179   BIC:                             2126.\n",
      "Df Model:                           1                                         \n",
      "Covariance Type:            nonrobust                                         \n",
      "======================================================================================\n",
      "                         coef    std err          t      P>|t|      [0.025      0.975]\n",
      "--------------------------------------------------------------------------------------\n",
      "Intercept            221.1820     17.148     12.898      0.000     187.343     255.021\n",
      "health_expenditure    -8.7265      2.382     -3.664      0.000     -13.426      -4.027\n",
      "==============================================================================\n",
      "Omnibus:                       40.872   Durbin-Watson:                   1.686\n",
      "Prob(Omnibus):                  0.000   Jarque-Bera (JB):               64.844\n",
      "Skew:                           1.199   Prob(JB):                     8.30e-15\n",
      "Kurtosis:                       4.689   Cond. No.                         20.1\n",
      "==============================================================================\n",
      "\n",
      "Notes:\n",
      "[1] Standard Errors assume that the covariance matrix of the errors is correctly specified.\n"
     ]
    }
   ],
   "source": [
    "print(sf.ols(\"adult_mortality ~ health_expenditure\",df).fit().summary())"
   ]
  },
  {
   "cell_type": "markdown",
   "metadata": {},
   "source": [
    "As seen in the result, t-statistic for the coefficient for the health expenditure ($\\beta_1$) is -3.664 and therefore the two variabels we investigate are negatively correlated. One can see this correlation in the regression lines within the scatter plot:"
   ]
  },
  {
   "cell_type": "code",
   "execution_count": 11,
   "metadata": {},
   "outputs": [
    {
     "data": {
      "image/png": "[encoded data removed]",
      "text/plain": [
       "<Figure size 432x288 with 1 Axes>"
      ]
     },
     "metadata": {
      "needs_background": "light"
     },
     "output_type": "display_data"
    }
   ],
   "source": [
    "sns.regplot(x=\"health_expenditure\",y=\"adult_mortality\",data=df,scatter_kws={\"s\":6},line_kws={\"color\":\"r\"});\n",
    "plt.xlabel(\"Health expenditure, % of GDP\")\n",
    "plt.ylabel(\"Adult mortality per 1000 ppl.\");"
   ]
  },
  {
   "cell_type": "markdown",
   "metadata": {},
   "source": [
    "### Remarks\n",
    "In this note, I reviewed the concept of linear regression and demonstrated with the WHO dataset. While the regression result captures if the overall correlation is positive or negative, there are still a lot of data located far off from the regression curve. This implies that one need to include more features or to employ more complicated models to predict the life expectancy better."
   ]
  }
 ],
 "metadata": {
  "kernelspec": {
   "display_name": "Python 3",
   "language": "python",
   "name": "python3"
  },
  "language_info": {
   "codemirror_mode": {
    "name": "ipython",
    "version": 3
   },
   "file_extension": ".py",
   "mimetype": "text/x-python",
   "name": "python",
   "nbconvert_exporter": "python",
   "pygments_lexer": "ipython3",
   "version": "3.7.9"
  }
 },
 "nbformat": 4,
 "nbformat_minor": 4
}
